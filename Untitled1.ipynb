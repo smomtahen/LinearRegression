{
  "nbformat": 4,
  "nbformat_minor": 0,
  "metadata": {
    "colab": {
      "name": "Untitled1.ipynb",
      "provenance": [],
      "collapsed_sections": [],
      "authorship_tag": "ABX9TyP+Ajb/pptuVH9XG1YHDsUk",
      "include_colab_link": true
    },
    "kernelspec": {
      "name": "python3",
      "display_name": "Python 3"
    }
  },
  "cells": [
    {
      "cell_type": "markdown",
      "metadata": {
        "id": "view-in-github",
        "colab_type": "text"
      },
      "source": [
        "<a href=\"https://colab.research.google.com/github/smomtahen/LinearRegression/blob/master/Untitled1.ipynb\" target=\"_parent\"><img src=\"https://colab.research.google.com/assets/colab-badge.svg\" alt=\"Open In Colab\"/></a>"
      ]
    },
    {
      "cell_type": "code",
      "metadata": {
        "id": "yagruIAX45m3",
        "colab_type": "code",
        "outputId": "30a4ceba-791f-4c02-ec63-39c11ae1444e",
        "colab": {
          "base_uri": "https://localhost:8080/",
          "height": 295
        }
      },
      "source": [
        "import numpy as np\n",
        "import pandas as pd\n",
        "import matplotlib.pyplot as plt\n",
        "# read the dataframe df from the csv file\n",
        "df = pd.read_csv(\"polydata.csv\")\n",
        "# extract x and y values from the corresponding columns in the dataframe \n",
        "x = df.loc[:,'x'].values\n",
        "y = df.loc[:,'y'].values\n",
        "\n",
        "#print (x)\n",
        "# now x and y contain the data values from a polynomial\n",
        "\n",
        "# add your code below\n",
        "from sklearn.model_selection import train_test_split \n",
        "X_train, X_test, y_train, y_test = train_test_split(x, y, test_size=0.2, random_state=0)\n",
        "x=x.reshape(1,-1)\n",
        "y=y.reshape(1,-1)\n",
        "# Fitting Linear Regression to the dataset\n",
        "from sklearn.linear_model import LinearRegression\n",
        "lin_reg = LinearRegression()\n",
        "lin_reg.fit(x, y)\n",
        "# Visualizing the Linear Regression results\n",
        "def viz_linear():\n",
        "    plt.scatter(x, y, color='red')\n",
        "    plt.plot(x, lin_reg.predict(x), color='blue')\n",
        "    plt.title('Linear Regression')\n",
        "    plt.xlabel('x ')\n",
        "    plt.ylabel('y')\n",
        "    plt.show()\n",
        "    return\n",
        "viz_linear()\n"
      ],
      "execution_count": 0,
      "outputs": [
        {
          "output_type": "display_data",
          "data": {
            "image/png": "[encoded data removed]",
            "text/plain": [
              "<Figure size 432x288 with 1 Axes>"
            ]
          },
          "metadata": {
            "tags": []
          }
        }
      ]
    },
    {
      "cell_type": "code",
      "metadata": {
        "id": "ORZ6qAtK-8Wt",
        "colab_type": "code",
        "outputId": "02f3ee0e-e3b4-48a4-eb80-1694880c5762",
        "colab": {
          "base_uri": "https://localhost:8080/",
          "height": 35
        }
      },
      "source": [
        "import numpy as np\n",
        "import pandas as pd\n",
        "import matplotlib.pyplot as plt\n",
        "# read the dataframe df from the csv file\n",
        "df = pd.read_csv(\"polydata.csv\")\n",
        "# extract x and y values from the corresponding columns in the dataframe \n",
        "x = df.loc[:,'x'].values\n",
        "y = df.loc[:,'y'].values\n",
        "x=x.reshape(1,-1)\n",
        "y=y.reshape(1,-1)\n",
        "#print (x)\n",
        "# now x and y contain the data values from a polynomial\n",
        "\n",
        "# add your code below\n",
        "from sklearn.linear_model import LinearRegression\n",
        "from sklearn.preprocessing import PolynomialFeatures\n",
        "from sklearn.metrics import mean_squared_error\n",
        "\n",
        "poly_features = PolynomialFeatures(degree=2, include_bias=False)\n",
        "X_poly = poly_features.fit_transform(x)\n",
        "poly_reg = LinearRegression()\n",
        "poly_reg.fit(X_poly, y)\n",
        "\n",
        "poly_predict = poly_reg.predict(X_poly)\n",
        "poly_mse = mean_squared_error(x, poly_predict)\n",
        "poly_rmse = np.sqrt(poly_mse)\n",
        "poly_rmse"
      ],
      "execution_count": 0,
      "outputs": [
        {
          "output_type": "execute_result",
          "data": {
            "text/plain": [
              "55.10366241706642"
            ]
          },
          "metadata": {
            "tags": []
          },
          "execution_count": 4
        }
      ]
    },
    {
      "cell_type": "code",
      "metadata": {
        "id": "Q3jwsu_p_sQY",
        "colab_type": "code",
        "outputId": "293119ba-85e8-4aae-fe1d-cbdef61dc28c",
        "colab": {
          "base_uri": "https://localhost:8080/",
          "height": 315
        }
      },
      "source": [
        "import numpy as np\n",
        "import pandas as pd\n",
        "import matplotlib.pyplot as plt\n",
        "# read the dataframe df from the csv file\n",
        "df = pd.read_csv(\"polydata.csv\")\n",
        "# extract x and y values from the corresponding columns in the dataframe \n",
        "x = df.loc[:,'x'].values\n",
        "y = df.loc[:,'y'].values\n",
        "x=x.reshape(1,-1)\n",
        "y=y.reshape(1,-1)\n",
        "import matplotlib.pyplot as plt \n",
        "\n",
        "from sklearn.linear_model import LinearRegression\n",
        "from sklearn.preprocessing import PolynomialFeatures\n",
        "from sklearn.metrics import mean_squared_error\n",
        "from sklearn.model_selection import train_test_split\n",
        "\n",
        "X = np.arange(100).reshape(100, 1)\n",
        "y = X**4 + X**3 + X + 1\n",
        "\n",
        "x_train, x_test, y_train, y_test = train_test_split(X, y, test_size=0.3)\n",
        "\n",
        "rmses = []\n",
        "degrees = np.arange(1, 10)\n",
        "min_rmse, min_deg = 1e10, 0\n",
        "\n",
        "for deg in degrees:\n",
        "\n",
        "    # Train features\n",
        "    poly_features = PolynomialFeatures(degree=deg, include_bias=False)\n",
        "    x_poly_train = poly_features.fit_transform(x_train)\n",
        "\n",
        "    # Linear regression\n",
        "    poly_reg = LinearRegression()\n",
        "    poly_reg.fit(x_poly_train, y_train)\n",
        "\n",
        "    # Compare with test data\n",
        "    x_poly_test = poly_features.fit_transform(x_test)\n",
        "    poly_predict = poly_reg.predict(x_poly_test)\n",
        "    poly_mse = mean_squared_error(y_test, poly_predict)\n",
        "    poly_rmse = np.sqrt(poly_mse)\n",
        "    rmses.append(poly_rmse)\n",
        "\n",
        "    # Cross-validation of degree\n",
        "    if min_rmse > poly_rmse:\n",
        "        min_rmse = poly_rmse\n",
        "        min_deg = deg\n",
        "\n",
        "# Plot and present results\n",
        "print('Best degree {} with RMSE {}'.format(min_deg, min_rmse))\n",
        "\n",
        "fig = plt.figure()\n",
        "ax = fig.add_subplot(111)\n",
        "ax.plot(degrees, rmses)\n",
        "ax.set_yscale('log')\n",
        "ax.set_xlabel('Degree')\n",
        "ax.set_ylabel('RMSE')"
      ],
      "execution_count": 0,
      "outputs": [
        {
          "output_type": "stream",
          "text": [
            "Best degree 4 with RMSE 1.4113102980882286e-08\n"
          ],
          "name": "stdout"
        },
        {
          "output_type": "execute_result",
          "data": {
            "text/plain": [
              "Text(0, 0.5, 'RMSE')"
            ]
          },
          "metadata": {
            "tags": []
          },
          "execution_count": 5
        },
        {
          "output_type": "display_data",
          "data": {
            "image/png": "[encoded data removed]",
            "text/plain": [
              "<Figure size 432x288 with 1 Axes>"
            ]
          },
          "metadata": {
            "tags": []
          }
        }
      ]
    }
  ]
}