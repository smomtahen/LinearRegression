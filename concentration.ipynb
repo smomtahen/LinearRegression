{
  "nbformat": 4,
  "nbformat_minor": 0,
  "metadata": {
    "colab": {
      "name": "concentration.ipynb",
      "version": "0.3.2",
      "provenance": [],
      "include_colab_link": true
    },
    "kernelspec": {
      "name": "python3",
      "display_name": "Python 3"
    }
  },
  "cells": [
    {
      "cell_type": "markdown",
      "metadata": {
        "id": "view-in-github",
        "colab_type": "text"
      },
      "source": [
        "<a href=\"https://colab.research.google.com/github/smomtahen/LinearRegression/blob/master/concentration.ipynb\" target=\"_parent\"><img src=\"https://colab.research.google.com/assets/colab-badge.svg\" alt=\"Open In Colab\"/></a>"
      ]
    },
    {
      "cell_type": "code",
      "metadata": {
        "id": "TQz5icdCOIDh",
        "colab_type": "code",
        "colab": {}
      },
      "source": [
        "from matplotlib import pyplot as plt\n",
        "import numpy as np\n",
        "import pandas as pd\n",
        "from scipy import stats\n",
        "from sklearn.base import BaseEstimator\n",
        "from sklearn.model_selection import GridSearchCV\n",
        "from sklearn.linear_model import LinearRegression\n",
        "from sklearn.metrics import mean_squared_error\n",
        "from sklearn.preprocessing import StandardScaler"
      ],
      "execution_count": 0,
      "outputs": []
    },
    {
      "cell_type": "code",
      "metadata": {
        "id": "K3ugQOCfX1Ny",
        "colab_type": "code",
        "outputId": "f348aacb-f01d-4d5b-fe67-86711648347d",
        "colab": {
          "base_uri": "https://localhost:8080/",
          "height": 227
        }
      },
      "source": [
        "#df = pd.read_csv('https://raw.githubusercontent.com/tofighi/Public/master/data/data.csv')\n",
        "df = pd.read_csv('https://raw.githubusercontent.com/tofighi/Public/master/data/01.csv')\n",
        "#df = pd.read_csv('https://raw.githubusercontent.com/tofighi/Public/master/data/02.csv')\n",
        "#df = pd.read_csv('https://raw.githubusercontent.com/tofighi/Public/master/data/03.csv')\n",
        "#df = pd.read_csv('https://raw.githubusercontent.com/tofighi/Public/master/data/04.csv')\n",
        "#df = pd.read_csv('https://raw.githubusercontent.com/tofighi/Public/master/data/05.csv')\n",
        "\n",
        "df"
      ],
      "execution_count": 0,
      "outputs": [
        {
          "output_type": "execute_result",
          "data": {
            "text/html": [
              "<div>\n",
              "<style scoped>\n",
              "    .dataframe tbody tr th:only-of-type {\n",
              "        vertical-align: middle;\n",
              "    }\n",
              "\n",
              "    .dataframe tbody tr th {\n",
              "        vertical-align: top;\n",
              "    }\n",
              "\n",
              "    .dataframe thead th {\n",
              "        text-align: right;\n",
              "    }\n",
              "</style>\n",
              "<table border=\"1\" class=\"dataframe\">\n",
              "  <thead>\n",
              "    <tr style=\"text-align: right;\">\n",
              "      <th></th>\n",
              "      <th>concentration</th>\n",
              "      <th>instrumant readings</th>\n",
              "    </tr>\n",
              "  </thead>\n",
              "  <tbody>\n",
              "    <tr>\n",
              "      <th>0</th>\n",
              "      <td>0</td>\n",
              "      <td>0.04</td>\n",
              "    </tr>\n",
              "    <tr>\n",
              "      <th>1</th>\n",
              "      <td>15</td>\n",
              "      <td>0.08</td>\n",
              "    </tr>\n",
              "    <tr>\n",
              "      <th>2</th>\n",
              "      <td>80</td>\n",
              "      <td>0.23</td>\n",
              "    </tr>\n",
              "    <tr>\n",
              "      <th>3</th>\n",
              "      <td>250</td>\n",
              "      <td>0.57</td>\n",
              "    </tr>\n",
              "    <tr>\n",
              "      <th>4</th>\n",
              "      <td>500</td>\n",
              "      <td>0.97</td>\n",
              "    </tr>\n",
              "    <tr>\n",
              "      <th>5</th>\n",
              "      <td>1000</td>\n",
              "      <td>1.31</td>\n",
              "    </tr>\n",
              "  </tbody>\n",
              "</table>\n",
              "</div>"
            ],
            "text/plain": [
              "   concentration  instrumant readings\n",
              "0              0                 0.04\n",
              "1             15                 0.08\n",
              "2             80                 0.23\n",
              "3            250                 0.57\n",
              "4            500                 0.97\n",
              "5           1000                 1.31"
            ]
          },
          "metadata": {
            "tags": []
          },
          "execution_count": 2
        }
      ]
    },
    {
      "cell_type": "code",
      "metadata": {
        "id": "FF_TSx0ib1Tp",
        "colab_type": "code",
        "outputId": "bd1551ae-1621-4a08-f39a-d15b7d8deddb",
        "colab": {
          "base_uri": "https://localhost:8080/",
          "height": 227
        }
      },
      "source": [
        "df2 = df[['concentration','instrumant readings']]\n",
        "df2"
      ],
      "execution_count": 0,
      "outputs": [
        {
          "output_type": "execute_result",
          "data": {
            "text/html": [
              "<div>\n",
              "<style scoped>\n",
              "    .dataframe tbody tr th:only-of-type {\n",
              "        vertical-align: middle;\n",
              "    }\n",
              "\n",
              "    .dataframe tbody tr th {\n",
              "        vertical-align: top;\n",
              "    }\n",
              "\n",
              "    .dataframe thead th {\n",
              "        text-align: right;\n",
              "    }\n",
              "</style>\n",
              "<table border=\"1\" class=\"dataframe\">\n",
              "  <thead>\n",
              "    <tr style=\"text-align: right;\">\n",
              "      <th></th>\n",
              "      <th>concentration</th>\n",
              "      <th>instrumant readings</th>\n",
              "    </tr>\n",
              "  </thead>\n",
              "  <tbody>\n",
              "    <tr>\n",
              "      <th>0</th>\n",
              "      <td>0</td>\n",
              "      <td>0.04</td>\n",
              "    </tr>\n",
              "    <tr>\n",
              "      <th>1</th>\n",
              "      <td>15</td>\n",
              "      <td>0.08</td>\n",
              "    </tr>\n",
              "    <tr>\n",
              "      <th>2</th>\n",
              "      <td>80</td>\n",
              "      <td>0.23</td>\n",
              "    </tr>\n",
              "    <tr>\n",
              "      <th>3</th>\n",
              "      <td>250</td>\n",
              "      <td>0.57</td>\n",
              "    </tr>\n",
              "    <tr>\n",
              "      <th>4</th>\n",
              "      <td>500</td>\n",
              "      <td>0.97</td>\n",
              "    </tr>\n",
              "    <tr>\n",
              "      <th>5</th>\n",
              "      <td>1000</td>\n",
              "      <td>1.31</td>\n",
              "    </tr>\n",
              "  </tbody>\n",
              "</table>\n",
              "</div>"
            ],
            "text/plain": [
              "   concentration  instrumant readings\n",
              "0              0                 0.04\n",
              "1             15                 0.08\n",
              "2             80                 0.23\n",
              "3            250                 0.57\n",
              "4            500                 0.97\n",
              "5           1000                 1.31"
            ]
          },
          "metadata": {
            "tags": []
          },
          "execution_count": 3
        }
      ]
    },
    {
      "cell_type": "code",
      "metadata": {
        "id": "2alzVv7qOKMo",
        "colab_type": "code",
        "colab": {}
      },
      "source": [
        "def p(x):\n",
        "    return 6*x**5 - 2*x**4 +3 * x**2 + 2 * x + 1"
      ],
      "execution_count": 0,
      "outputs": []
    },
    {
      "cell_type": "code",
      "metadata": {
        "id": "_ZvpNQ0eOVCK",
        "colab_type": "code",
        "colab": {}
      },
      "source": [
        "np.random.seed(145837)\n"
      ],
      "execution_count": 0,
      "outputs": []
    },
    {
      "cell_type": "code",
      "metadata": {
        "id": "zaJovieaOXe4",
        "colab_type": "code",
        "colab": {}
      },
      "source": [
        "N = 7\n",
        "var = 10**-1\n",
        "\n",
        "left = -1\n",
        "right = 3\n",
        "\n",
        "\n",
        "\n",
        "xs = stats.uniform.rvs(left, right, size=N)\n",
        "eps = stats.norm.rvs(0, np.sqrt(var), size=N)\n",
        "ys = p(xs) + eps\n"
      ],
      "execution_count": 0,
      "outputs": []
    },
    {
      "cell_type": "code",
      "metadata": {
        "id": "Jdv-rH4AYEch",
        "colab_type": "code",
        "outputId": "d3741788-4e74-45b0-e7a4-f2fff6e26a89",
        "colab": {
          "base_uri": "https://localhost:8080/",
          "height": 265
        }
      },
      "source": [
        "xs = df2['concentration']\n",
        "print(xs)\n",
        "ys = df2['instrumant readings']\n",
        "print(ys)"
      ],
      "execution_count": 0,
      "outputs": [
        {
          "output_type": "stream",
          "text": [
            "0       0\n",
            "1      15\n",
            "2      80\n",
            "3     250\n",
            "4     500\n",
            "5    1000\n",
            "Name: concentration, dtype: int64\n",
            "0    0.04\n",
            "1    0.08\n",
            "2    0.23\n",
            "3    0.57\n",
            "4    0.97\n",
            "5    1.31\n",
            "Name: instrumant readings, dtype: float64\n"
          ],
          "name": "stdout"
        }
      ]
    },
    {
      "cell_type": "code",
      "metadata": {
        "id": "bGZkL5fVbXn_",
        "colab_type": "code",
        "outputId": "ba7baded-e45a-4278-d2d4-a1743d826daf",
        "colab": {
          "base_uri": "https://localhost:8080/",
          "height": 123
        }
      },
      "source": [
        "scaler = StandardScaler()\n",
        "scaler.fit(df2)\n",
        "df2_norm=scaler.transform(df2)\n",
        "df2_norm"
      ],
      "execution_count": 0,
      "outputs": [
        {
          "output_type": "execute_result",
          "data": {
            "text/plain": [
              "array([[-0.86870675, -1.04542092],\n",
              "       [-0.82633081, -0.96065706],\n",
              "       [-0.64270174, -0.64279259],\n",
              "       [-0.1624411 ,  0.0777002 ],\n",
              "       [ 0.54382455,  0.92533879],\n",
              "       [ 1.95635585,  1.64583158]])"
            ]
          },
          "metadata": {
            "tags": []
          },
          "execution_count": 8
        }
      ]
    },
    {
      "cell_type": "code",
      "metadata": {
        "id": "mJdM8RnzcN50",
        "colab_type": "code",
        "outputId": "24e3eb83-af77-4049-c092-11116546a0e5",
        "colab": {
          "base_uri": "https://localhost:8080/",
          "height": 52
        }
      },
      "source": [
        "#with normalization\n",
        "xs = df2_norm[:,[0]].ravel()\n",
        "print(xs)\n",
        "ys = df2_norm[:,[1]].ravel()\n",
        "print(ys)"
      ],
      "execution_count": 0,
      "outputs": [
        {
          "output_type": "stream",
          "text": [
            "[-0.86870675 -0.82633081 -0.64270174 -0.1624411   0.54382455  1.95635585]\n",
            "[-1.04542092 -0.96065706 -0.64279259  0.0777002   0.92533879  1.64583158]\n"
          ],
          "name": "stdout"
        }
      ]
    },
    {
      "cell_type": "code",
      "metadata": {
        "id": "j_GtiQ1zZRzb",
        "colab_type": "code",
        "outputId": "a7fc8b44-70d9-4397-dae3-56d3f35dc4e3",
        "colab": {
          "base_uri": "https://localhost:8080/",
          "height": 265
        }
      },
      "source": [
        "#without normalization\n",
        "xs = df2['concentration']\n",
        "print(xs)\n",
        "ys = df2['instrumant readings']\n",
        "print(ys)"
      ],
      "execution_count": 0,
      "outputs": [
        {
          "output_type": "stream",
          "text": [
            "0       0\n",
            "1      15\n",
            "2      80\n",
            "3     250\n",
            "4     500\n",
            "5    1000\n",
            "Name: concentration, dtype: int64\n",
            "0    0.04\n",
            "1    0.08\n",
            "2    0.23\n",
            "3    0.57\n",
            "4    0.97\n",
            "5    1.31\n",
            "Name: instrumant readings, dtype: float64\n"
          ],
          "name": "stdout"
        }
      ]
    },
    {
      "cell_type": "code",
      "metadata": {
        "id": "Zp3o_wyYZzvi",
        "colab_type": "code",
        "colab": {}
      },
      "source": [
        "\n",
        "left = np.min(xs)-1\n",
        "right = np.max(xs)+1\n"
      ],
      "execution_count": 0,
      "outputs": []
    },
    {
      "cell_type": "code",
      "metadata": {
        "id": "IFnN1t-COZCy",
        "colab_type": "code",
        "colab": {}
      },
      "source": [
        "class PolynomialRegression(BaseEstimator):\n",
        "    def __init__(self, deg=None):\n",
        "        self.deg = deg\n",
        "    \n",
        "    def fit(self, X, y, deg=None):\n",
        "        self.model = LinearRegression(fit_intercept=False)\n",
        "        self.model.fit(np.vander(X, N=self.deg + 1), y)\n",
        "    \n",
        "    def predict(self, x):\n",
        "        return self.model.predict(np.vander(x, N=self.deg + 1))\n",
        "    \n",
        "    @property\n",
        "    def coef_(self):\n",
        "        return self.model.coef_"
      ],
      "execution_count": 0,
      "outputs": []
    },
    {
      "cell_type": "code",
      "metadata": {
        "id": "aHfFUX0fOiti",
        "colab_type": "code",
        "outputId": "a89e3a79-f552-46f3-bd7b-f213a0b10030",
        "colab": {
          "base_uri": "https://localhost:8080/",
          "height": 34
        }
      },
      "source": [
        "known_degree_model = PolynomialRegression(deg=3)\n",
        "known_degree_model.fit(xs, ys)\n",
        "known_degree_model.coef_"
      ],
      "execution_count": 0,
      "outputs": [
        {
          "output_type": "execute_result",
          "data": {
            "text/plain": [
              "array([-1.42745610e-10, -9.55951427e-07,  2.36549880e-03,  4.32611522e-02])"
            ]
          },
          "metadata": {
            "tags": []
          },
          "execution_count": 13
        }
      ]
    },
    {
      "cell_type": "code",
      "metadata": {
        "id": "08LAv3GGOnSs",
        "colab_type": "code",
        "colab": {}
      },
      "source": [
        "overfit_model = PolynomialRegression(deg=N - 1)\n",
        "overfit_model.fit(xs, ys)"
      ],
      "execution_count": 0,
      "outputs": []
    },
    {
      "cell_type": "code",
      "metadata": {
        "id": "8ysqA0cfOtdt",
        "colab_type": "code",
        "outputId": "ba5ff806-e84f-4548-dafa-11f485fbf9f6",
        "colab": {
          "base_uri": "https://localhost:8080/",
          "height": 268
        }
      },
      "source": [
        "fig = plt.figure()\n",
        "ax = fig.add_subplot(111)\n",
        "\n",
        "plot_xs = np.linspace(left, right, (right - left) * 100)\n",
        "\n",
        "ax.scatter(xs, ys);\n",
        "ax.plot(plot_xs, np.clip(overfit_model.predict(plot_xs), -1, 7), color='k', label='Overfit estimator');\n",
        "#ax.plot(plot_xs, p(plot_xs), color='r', label='True polynomial');\n",
        "ax.legend(loc=2);"
      ],
      "execution_count": 0,
      "outputs": [
        {
          "output_type": "display_data",
          "data": {
            "image/png": "[encoded data removed]",
            "text/plain": [
              "<Figure size 432x288 with 1 Axes>"
            ]
          },
          "metadata": {
            "tags": []
          }
        }
      ]
    },
    {
      "cell_type": "code",
      "metadata": {
        "id": "5dj86fPeOvsL",
        "colab_type": "code",
        "outputId": "be686803-6c8e-4fba-bad3-e2fbd94eb996",
        "colab": {
          "base_uri": "https://localhost:8080/",
          "height": 34
        }
      },
      "source": [
        "mean_squared_error(overfit_model.predict(xs), ys)\n"
      ],
      "execution_count": 0,
      "outputs": [
        {
          "output_type": "execute_result",
          "data": {
            "text/plain": [
              "0.0012680662479902854"
            ]
          },
          "metadata": {
            "tags": []
          },
          "execution_count": 16
        }
      ]
    },
    {
      "cell_type": "code",
      "metadata": {
        "id": "jITLaS5ZOzji",
        "colab_type": "code",
        "outputId": "3b4e5b7d-2872-48c4-d3a3-45a5f2c72474",
        "colab": {
          "base_uri": "https://localhost:8080/",
          "height": 34
        }
      },
      "source": [
        "N_prediction = 10\n",
        "\n",
        "prediction_xs = stats.uniform.rvs(left, right, size=N_prediction)\n",
        "prediction_eps = stats.norm.rvs(0, np.sqrt(var), size=N_prediction)\n",
        "prediction_ys = p(prediction_xs) + prediction_eps\n",
        "\n",
        "mean_squared_error(overfit_model.predict(prediction_xs), prediction_ys)"
      ],
      "execution_count": 0,
      "outputs": [
        {
          "output_type": "execute_result",
          "data": {
            "text/plain": [
              "1.446504647792458e+30"
            ]
          },
          "metadata": {
            "tags": []
          },
          "execution_count": 17
        }
      ]
    },
    {
      "cell_type": "code",
      "metadata": {
        "id": "aubcNbIpO17p",
        "colab_type": "code",
        "colab": {}
      },
      "source": [
        "estimator = PolynomialRegression()\n",
        "degrees = np.arange(1, 25)\n",
        "cv_model = GridSearchCV(estimator,\n",
        "                        cv=3,\n",
        "                        param_grid={'deg': degrees},\n",
        "                        scoring='neg_mean_squared_error')\n",
        "cv_model.fit(xs, ys);\n"
      ],
      "execution_count": 0,
      "outputs": []
    },
    {
      "cell_type": "code",
      "metadata": {
        "id": "hah-G_POO7Ti",
        "colab_type": "code",
        "outputId": "039f4467-f580-4c5f-b179-a0d2ea60073e",
        "colab": {
          "base_uri": "https://localhost:8080/",
          "height": 34
        }
      },
      "source": [
        "cv_model.best_params_, cv_model.best_estimator_.coef_"
      ],
      "execution_count": 0,
      "outputs": [
        {
          "output_type": "execute_result",
          "data": {
            "text/plain": [
              "({'deg': 2}, array([-1.16007531e-06,  2.42933853e-03,  4.13591261e-02]))"
            ]
          },
          "metadata": {
            "tags": []
          },
          "execution_count": 19
        }
      ]
    },
    {
      "cell_type": "code",
      "metadata": {
        "id": "I02Z6lJLPw4B",
        "colab_type": "code",
        "outputId": "b8a1f704-3a09-49bf-bfce-1dd565d86cb4",
        "colab": {
          "base_uri": "https://localhost:8080/",
          "height": 268
        }
      },
      "source": [
        "fig = plt.figure()\n",
        "ax = fig.add_subplot(111)\n",
        "\n",
        "plt.scatter(xs, ys);\n",
        "ax.plot(plot_xs, np.clip(overfit_model.predict(plot_xs), -1, 7), color='k', label='Overfit estimator');\n",
        "plt.plot(plot_xs, cv_model.predict(plot_xs), color='b', label='Cross-validated estimator');\n",
        "#ax.plot(plot_xs, p(plot_xs), color='r', label='True polynomial');\n",
        "ax.legend(loc=2);"
      ],
      "execution_count": 0,
      "outputs": [
        {
          "output_type": "display_data",
          "data": {
            "image/png": "[encoded data removed]",
            "text/plain": [
              "<Figure size 432x288 with 1 Axes>"
            ]
          },
          "metadata": {
            "tags": []
          }
        }
      ]
    },
    {
      "cell_type": "code",
      "metadata": {
        "id": "i0bUDYSPP9Ad",
        "colab_type": "code",
        "outputId": "ef438d2b-22af-49cb-e1c7-23466b0b1f6c",
        "colab": {
          "base_uri": "https://localhost:8080/",
          "height": 34
        }
      },
      "source": [
        "mean_squared_error(cv_model.predict(xs), ys)\n"
      ],
      "execution_count": 0,
      "outputs": [
        {
          "output_type": "execute_result",
          "data": {
            "text/plain": [
              "1.0912578139271386e-05"
            ]
          },
          "metadata": {
            "tags": []
          },
          "execution_count": 21
        }
      ]
    },
    {
      "cell_type": "code",
      "metadata": {
        "id": "-zft6vBGQAJJ",
        "colab_type": "code",
        "outputId": "3d82d0f9-f064-415a-d712-66be4b7b9a05",
        "colab": {
          "base_uri": "https://localhost:8080/",
          "height": 34
        }
      },
      "source": [
        "mean_squared_error(cv_model.predict(prediction_xs), prediction_ys)\n"
      ],
      "execution_count": 0,
      "outputs": [
        {
          "output_type": "execute_result",
          "data": {
            "text/plain": [
              "1.4465046477925547e+30"
            ]
          },
          "metadata": {
            "tags": []
          },
          "execution_count": 22
        }
      ]
    },
    {
      "cell_type": "code",
      "metadata": {
        "id": "gey7n4mdQEPf",
        "colab_type": "code",
        "outputId": "8e5f910f-ce32-455a-96e8-06c355f7fc9b",
        "colab": {
          "base_uri": "https://localhost:8080/",
          "height": 354
        }
      },
      "source": [
        "fig = plt.figure(figsize=(10,5))\n",
        "ax = fig.add_subplot(111)\n",
        "\n",
        "cv_model.cv_results_\n",
        "\n",
        "#scores = np.array([mean_test_score in cv_model.cv_results_])\n",
        "scores= cv_model.cv_results_['mean_test_score']\n",
        "\n",
        "ax.plot(degrees, -scores)\n",
        "plt.xticks(np.arange(1, np.max(degrees)+1, step=1))\n",
        "plt.grid(color='g', linestyle='-', linewidth=.5)\n",
        "ax.set_yscale('log')\n",
        "ax.set_ylabel('MSE (log scaled)')\n",
        "ax.set_xlabel('Polynomial Degree')"
      ],
      "execution_count": 0,
      "outputs": [
        {
          "output_type": "execute_result",
          "data": {
            "text/plain": [
              "Text(0.5, 0, 'Polynomial Degree')"
            ]
          },
          "metadata": {
            "tags": []
          },
          "execution_count": 23
        },
        {
          "output_type": "display_data",
          "data": {
            "image/png": "[encoded data removed]",
            "text/plain": [
              "<Figure size 720x360 with 1 Axes>"
            ]
          },
          "metadata": {
            "tags": []
          }
        }
      ]
    },
    {
      "cell_type": "code",
      "metadata": {
        "id": "ZYeD0mmIUSBS",
        "colab_type": "code",
        "colab": {}
      },
      "source": [
        ""
      ],
      "execution_count": 0,
      "outputs": []
    }
  ]
}